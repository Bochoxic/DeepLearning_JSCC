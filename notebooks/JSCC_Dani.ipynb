{
  "nbformat": 4,
  "nbformat_minor": 0,
  "metadata": {
    "colab": {
      "provenance": []
    },
    "kernelspec": {
      "name": "python3",
      "display_name": "Python 3"
    },
    "language_info": {
      "name": "python"
    }
  },
  "cells": [
    {
      "cell_type": "code",
      "execution_count": null,
      "metadata": {
        "id": "a7vebf0-S-QV"
      },
      "outputs": [],
      "source": [
        "import numpy as np\n",
        "import torch\n",
        "import torch.nn as nn\n",
        "import torchvision.datasets as datasets\n",
        "import torchvision.transforms as transforms\n",
        "from torch.optim import lr_scheduler\n",
        "from torchsummary import summary\n",
        "import torch.optim as optim\n",
        "from torch.utils.data import DataLoader, Dataset, random_split\n",
        "from skimage.metrics import peak_signal_noise_ratio as compare_psnr\n",
        "from PIL import Image\n",
        "import os\n",
        "import matplotlib.pyplot as plt\n",
        "import time"
      ]
    },
    {
      "cell_type": "code",
      "source": [
        "ps = 64   # patch size (Height and Width)\n",
        "enc_chs = 5 * 4*2    # compression_ratio = 5 * 1/12\n",
        "stages_count = 5\n",
        "dec_chs = enc_chs // stages_count\n",
        "SNR = 13\n",
        "\n",
        "epochs = 500\n",
        "batch_size = int(32 * (32/ps)**2)\n",
        "loss_func = torch.nn.MSELoss()  # PyTorch Mean Squared Error Loss\n",
        "\n",
        "train_count = int(50000 * (32/ps)**2)   # number of patches in trainset\n",
        "test_count = int(10000 * (32/ps)**2)   # number of patches in testset"
      ],
      "metadata": {
        "id": "ohAPHA6zTCuu"
      },
      "execution_count": null,
      "outputs": []
    },
    {
      "cell_type": "code",
      "source": [
        "class PowerNormParts(nn.Module):\n",
        "    def __init__(self, parts_count, cplx=False, part_last_dim=True, **kwargs):\n",
        "        super().__init__(**kwargs)\n",
        "        self.pc = parts_count\n",
        "        self.cplx = cplx\n",
        "        self.part_last_dim = part_last_dim\n",
        "\n",
        "    def forward(self, inputs):\n",
        "        shape = inputs.shape\n",
        "        if self.part_last_dim:\n",
        "            inputs = inputs.view(shape[0], -1, shape[-1]).permute(0, 2, 1)\n",
        "\n",
        "        flatp = inputs.reshape(shape[0], self.pc, -1)\n",
        "        if self.cplx:\n",
        "            dsize = flatp.shape[2] // 2\n",
        "        else:\n",
        "            dsize = flatp.shape[2]\n",
        "        dsize_f = torch.tensor(dsize).float()\n",
        "\n",
        "        norm = torch.norm(flatp, dim=2)\n",
        "        norm = norm.unsqueeze(dim=-1)\n",
        "\n",
        "        out = torch.sqrt(dsize_f) * flatp / norm\n",
        "        if self.part_last_dim:\n",
        "            out = out.view(shape[0], shape[-1], -1).permute(0, 2, 1)\n",
        "        out = out.view(shape)\n",
        "        return out"
      ],
      "metadata": {
        "id": "B4uCv88DTEoa"
      },
      "execution_count": null,
      "outputs": []
    },
    {
      "cell_type": "code",
      "source": [
        "class Channel(nn.Module):\n",
        "    def __init__(self, snr, cplx=False, **kwargs):\n",
        "        super().__init__(**kwargs)\n",
        "        self.cplx = cplx\n",
        "        self.snr = snr\n",
        "        self.set_noise_std()\n",
        "\n",
        "    def forward(self, inputs):\n",
        "        shape = inputs.shape\n",
        "        # Generate noise with standard normal distribution\n",
        "        gnoise = torch.randn(shape)\n",
        "        # Scale and shift the noise to have the desired standard deviation and mean\n",
        "        gnoise = gnoise * self.noise_std\n",
        "        return inputs + gnoise\n",
        "\n",
        "    def get_snr(self):\n",
        "        return self.snr\n",
        "\n",
        "    def set_snr(self, snr):\n",
        "        self.snr = snr\n",
        "        self.set_noise_std()\n",
        "\n",
        "    def set_noise_std(self):\n",
        "        if self.cplx:\n",
        "            self.noise_std = np.sqrt(10**(-self.snr/10)) / np.sqrt(2)\n",
        "        else:\n",
        "            self.noise_std = np.sqrt(10**(-self.snr/10))\n"
      ],
      "metadata": {
        "id": "7DtTZXaKTo06"
      },
      "execution_count": null,
      "outputs": []
    },
    {
      "cell_type": "code",
      "source": [
        "def calculate_psnr(output, target, max_val=1.0):\n",
        "    mse = nn.functional.mse_loss(output, target)\n",
        "    psnr = 10 * torch.log10(max_val ** 2 / mse)\n",
        "    return psnr"
      ],
      "metadata": {
        "id": "NblCxJIH6Avu"
      },
      "execution_count": null,
      "outputs": []
    },
    {
      "cell_type": "code",
      "source": [
        "def PSNR_plotter(x_axis, model, channel, test_loader, stages_count=1, goal=None):\n",
        "    sc = stages_count\n",
        "    PSNRs = np.zeros((sc, len(x_axis)))\n",
        "    pre_snr = channel.get_snr()\n",
        "\n",
        "    model.eval()\n",
        "    with torch.no_grad():\n",
        "        for i, snr in enumerate(x_axis):\n",
        "            channel.set_snr(snr)\n",
        "            batch_psnrs = [[] for _ in range(sc)]\n",
        "\n",
        "            for data, target in test_loader:\n",
        "                data, target = data.to(device), target.to(device)\n",
        "                preds = model(data)\n",
        "\n",
        "                for j in range(sc):\n",
        "                    psnr = calculate_psnr(preds[j], target)\n",
        "                    batch_psnrs[j].append(psnr.item())\n",
        "\n",
        "            # Average the PSNR values over the test set for each stage\n",
        "            for j in range(sc):\n",
        "                PSNRs[j, i] = np.mean(batch_psnrs[j])\n",
        "\n",
        "    channel.set_snr(pre_snr)\n",
        "\n",
        "    # Plotting\n",
        "    for i in range(sc):\n",
        "        plt.plot(x_axis, PSNRs[i], label='Stage_' + str(i+1))\n",
        "    if goal is not None:\n",
        "        plt.plot(x_axis, goal, label='Goal')\n",
        "\n",
        "    plt.xlabel('SNR')\n",
        "    plt.ylabel('PSNR')\n",
        "    plt.title('PSNR vs SNR for Different Stages')\n",
        "    plt.legend(loc='lower right')\n",
        "    plt.grid()\n",
        "    plt.show()"
      ],
      "metadata": {
        "id": "C-lbjexTTuIL"
      },
      "execution_count": null,
      "outputs": []
    },
    {
      "cell_type": "code",
      "source": [
        "class PSNR_metric(nn.Module):\n",
        "    def __init__(self, name=\"PSNR\"):\n",
        "        super(PSNR_metric, self).__init__()\n",
        "        self.name = name\n",
        "        self.PSNR_additive = nn.Parameter(torch.tensor(0.0), requires_grad=False)\n",
        "        self.counter = nn.Parameter(torch.tensor(0.0), requires_grad=False)\n",
        "\n",
        "    def update_state(self, y_true, y_pred, sample_weight=None):\n",
        "        mse = torch.mean((y_true - y_pred) ** 2)\n",
        "        psnr = 10 * torch.log10(1.0 / mse)\n",
        "        self.PSNR_additive += psnr\n",
        "        self.counter += 1\n",
        "\n",
        "    def result(self):\n",
        "        return self.PSNR_additive / self.counter\n",
        "\n",
        "    def reset_states(self):\n",
        "        self.PSNR_additive = nn.Parameter(torch.tensor(0.0), requires_grad=False)\n",
        "        self.counter = nn.Parameter(torch.tensor(0.0), requires_grad=False)"
      ],
      "metadata": {
        "id": "01g60gacTxBC"
      },
      "execution_count": null,
      "outputs": []
    },
    {
      "cell_type": "code",
      "source": [
        "def lr_scheduler(epoch):\n",
        "  if epoch == 0:\n",
        "    print(\"\\nlearning_rate: 0.001\")\n",
        "  elif epoch == 20:\n",
        "    print(\"\\nlearning_rate: 0.0005\")\n",
        "  elif epoch == 30:\n",
        "    print(\"\\nlearning_rate: 0.0001\")\n",
        "\n",
        "  if epoch < 20:\n",
        "    return 0.001\n",
        "  elif epoch < 30:\n",
        "    return 0.0005\n",
        "  else:\n",
        "    return 0.0001"
      ],
      "metadata": {
        "id": "J7zh81q_T3dU"
      },
      "execution_count": null,
      "outputs": []
    },
    {
      "cell_type": "code",
      "source": [
        "class FuncCaller:\n",
        "    def __init__(self, period, function, *args, **kwargs):\n",
        "        self.period = period\n",
        "        self.fn = function\n",
        "        self.args = args\n",
        "        self.kwargs = kwargs\n",
        "\n",
        "    def on_epoch_end(self, epoch, logs=None):\n",
        "        if epoch % self.period == 0:\n",
        "            self.fn(*self.args, **self.kwargs)\n"
      ],
      "metadata": {
        "id": "EPBrYk8vT6cf"
      },
      "execution_count": null,
      "outputs": []
    },
    {
      "cell_type": "code",
      "source": [
        "class EpochDotter:\n",
        "    def __init__(self, nl_period, dot_period=1):\n",
        "        self.nl_period = nl_period\n",
        "        self.dot_period = dot_period\n",
        "        self.tic = time.time()\n",
        "\n",
        "    def on_epoch_end(self, epoch, logs=None):\n",
        "        if epoch % self.dot_period == 0:\n",
        "            print('.', end='')\n",
        "\n",
        "        if epoch % self.nl_period == 0:\n",
        "            toc = time.time()\n",
        "            print(\" {} epochs\".format(epoch), end='')\n",
        "            if self.tic is not None:\n",
        "                print(\" - {0:.2f}s/epoch\".format((toc - self.tic)/self.nl_period), end='')\n",
        "            if logs is not None:\n",
        "                for key, value in logs.items():\n",
        "                    if \"val\" in key:\n",
        "                        print(\" - {}: {:.4f}\".format(key, value), end='')\n",
        "            print(\"\")\n",
        "            self.tic = time.time()"
      ],
      "metadata": {
        "id": "g9XOX2OgT-ZU"
      },
      "execution_count": null,
      "outputs": []
    },
    {
      "cell_type": "code",
      "source": [
        "pip install git+https://github.com/modestyachts/ImageNetV2_pytorch"
      ],
      "metadata": {
        "colab": {
          "base_uri": "https://localhost:8080/"
        },
        "id": "meG3nVUDA9yn",
        "outputId": "4da11f84-c2aa-403e-efa3-f4c2a3fa699f"
      },
      "execution_count": null,
      "outputs": [
        {
          "output_type": "stream",
          "name": "stdout",
          "text": [
            "Collecting git+https://github.com/modestyachts/ImageNetV2_pytorch\n",
            "  Cloning https://github.com/modestyachts/ImageNetV2_pytorch to /tmp/pip-req-build-hat9r679\n",
            "  Running command git clone --filter=blob:none --quiet https://github.com/modestyachts/ImageNetV2_pytorch /tmp/pip-req-build-hat9r679\n",
            "  Resolved https://github.com/modestyachts/ImageNetV2_pytorch to commit 14d4456c39fe7f02a665544dd9fc37c1a5f8b635\n",
            "  Preparing metadata (setup.py) ... \u001b[?25l\u001b[?25hdone\n"
          ]
        }
      ]
    },
    {
      "cell_type": "code",
      "source": [
        "from imagenetv2_pytorch import ImageNetV2Dataset\n",
        "\n",
        "# Load the ImageNetV2 dataset\n",
        "dataset = ImageNetV2Dataset(\"matched-frequency\")\n",
        "\n",
        "# Extract the first N images\n",
        "N = 10000  # Number of images you want to use\n",
        "pil_images = [dataset[i][0] for i in range(N)]  # dataset[i][0] gives the PIL image"
      ],
      "metadata": {
        "id": "Amyg1IBSuicW"
      },
      "execution_count": null,
      "outputs": []
    },
    {
      "cell_type": "code",
      "source": [
        "class ImagePatchesDataset(Dataset):\n",
        "    def __init__(self, images, patch_size, train_count, test_count):\n",
        "        self.images = images\n",
        "        self.patch_size = patch_size\n",
        "        self.train_count = train_count\n",
        "        self.test_count = test_count\n",
        "        self.patches = self._preprocess()\n",
        "\n",
        "    def _preprocess(self):\n",
        "        patches = []\n",
        "        l = 0\n",
        "        for img in self.images:\n",
        "            # Assuming img is a PIL Image, convert to NumPy array\n",
        "            img_np = np.array(img)\n",
        "            shape = img_np.shape\n",
        "            tile_dim0 = shape[0] // self.patch_size\n",
        "            tile_dim1 = shape[1] // self.patch_size\n",
        "            img_np = img_np[:tile_dim0 * self.patch_size, :tile_dim1 * self.patch_size]\n",
        "            img_np = img_np.reshape(tile_dim0, self.patch_size, tile_dim1, self.patch_size, shape[-1])\n",
        "            img_np = img_np.transpose(0, 2, 1, 3, 4)\n",
        "            img_np = img_np.reshape(tile_dim0 * tile_dim1, self.patch_size, self.patch_size, shape[-1])\n",
        "            patches.append(img_np)\n",
        "            l += len(img_np)\n",
        "            if l > (self.train_count + self.test_count):\n",
        "                break\n",
        "        return np.vstack(patches)\n",
        "\n",
        "    def __len__(self):\n",
        "        return len(self.patches)\n",
        "\n",
        "    def __getitem__(self, idx):\n",
        "        patch = self.patches[idx]\n",
        "        patch = torch.tensor(patch).float() / 255.0\n",
        "        patch = patch.permute(2, 0, 1)  # Change to (C, H, W) format\n",
        "        return patch, patch  # Returning the same patch as input and target"
      ],
      "metadata": {
        "id": "Oq8eDNTfUEVc"
      },
      "execution_count": null,
      "outputs": []
    },
    {
      "cell_type": "code",
      "source": [
        "patch_size = 64\n",
        "train_count = 8000\n",
        "test_count = 2000\n",
        "\n",
        "patches_dataset = ImagePatchesDataset(pil_images, patch_size, train_count, test_count)"
      ],
      "metadata": {
        "id": "hVB0u_w_thp1"
      },
      "execution_count": null,
      "outputs": []
    },
    {
      "cell_type": "code",
      "source": [
        "def create_encoder(out_chs, img_shape=(3, None, None), name=None):\n",
        "    encoder_layers = [\n",
        "        nn.Conv2d(in_channels=3, out_channels=16, kernel_size=5, stride=2, padding=2),\n",
        "        nn.PReLU(num_parameters=16),\n",
        "        nn.Conv2d(in_channels=16, out_channels=32, kernel_size=5, stride=2, padding=2),\n",
        "        nn.PReLU(num_parameters=32),\n",
        "        nn.Conv2d(in_channels=32, out_channels=32, kernel_size=5, stride=1, padding=2),\n",
        "        nn.PReLU(num_parameters=32),\n",
        "        nn.Conv2d(in_channels=32, out_channels=32, kernel_size=5, stride=1, padding=2),\n",
        "        nn.PReLU(num_parameters=32),\n",
        "        nn.Conv2d(in_channels=32, out_channels=out_chs, kernel_size=5, stride=1, padding=2)\n",
        "    ]\n",
        "    encoder = nn.Sequential(*encoder_layers)\n",
        "    if name:\n",
        "        encoder.name = name  # PyTorch modules don't have a 'name' attribute by default\n",
        "    return encoder"
      ],
      "metadata": {
        "id": "2ChCbirNUGJ8"
      },
      "execution_count": null,
      "outputs": []
    },
    {
      "cell_type": "code",
      "source": [
        "def create_decoder(in_channels, img_chs=3, name=None):\n",
        "    decoder_layers = [\n",
        "        nn.ConvTranspose2d(in_channels=in_channels, out_channels=32, kernel_size=5, stride=1, padding=2),\n",
        "        nn.PReLU(num_parameters=32),\n",
        "        nn.ConvTranspose2d(in_channels=32, out_channels=32, kernel_size=5, stride=1, padding=2),\n",
        "        nn.PReLU(num_parameters=32),\n",
        "        nn.ConvTranspose2d(in_channels=32, out_channels=32, kernel_size=5, stride=1, padding=2),\n",
        "        nn.PReLU(num_parameters=32),\n",
        "        nn.ConvTranspose2d(in_channels=32, out_channels=16, kernel_size=5, stride=2, padding=2, output_padding=1),\n",
        "        nn.PReLU(num_parameters=16),\n",
        "        nn.ConvTranspose2d(in_channels=16, out_channels=img_chs, kernel_size=5, stride=2, padding=2, output_padding=1),\n",
        "        nn.Sigmoid()\n",
        "    ]\n",
        "    decoder = nn.Sequential(*decoder_layers)\n",
        "    if name:\n",
        "        decoder.name = name  # PyTorch modules don't have a 'name' attribute by default\n",
        "    return decoder"
      ],
      "metadata": {
        "id": "dlaIOOs0UTiN"
      },
      "execution_count": null,
      "outputs": []
    },
    {
      "cell_type": "code",
      "source": [
        "class DeepJSCC(nn.Module):\n",
        "    def __init__(self, enc_chs, stages_count, SNR):\n",
        "        super(DeepJSCC, self).__init__()\n",
        "        self.encoder = create_encoder(enc_chs)\n",
        "        self.powernorm = PowerNormParts(stages_count, cplx=True)\n",
        "        self.channel = Channel(SNR, cplx=True)\n",
        "        self.decoders = nn.ModuleList([create_decoder(dec_chs * (i + 1)) for i in range(stages_count)])\n",
        "        self.loss_func = nn.MSELoss()\n",
        "\n",
        "    def forward(self, x):\n",
        "        encoder_out = self.encoder(x)\n",
        "        power_out = self.powernorm(encoder_out)\n",
        "        channel_out = self.channel(power_out)\n",
        "\n",
        "        outputs = []\n",
        "        for i, decoder in enumerate(self.decoders):\n",
        "            decoder_input = channel_out[:, :dec_chs*(i+1), :, :]\n",
        "            decoder_output = decoder(decoder_input)\n",
        "            outputs.append(decoder_output)\n",
        "\n",
        "        return outputs\n",
        "\n",
        "    def calculate_loss(self, target, outputs):\n",
        "      losses = []\n",
        "      for output in outputs:\n",
        "          # Ensure output and target have the same shape\n",
        "          if output.shape == target.shape:\n",
        "              loss = self.loss_func(output, target)\n",
        "              losses.append(loss)\n",
        "          else:\n",
        "              print(f\"Output shape {output.shape} does not match target shape {target.shape}\")\n",
        "      return sum(losses)"
      ],
      "metadata": {
        "id": "sKoGd8FOUgKf"
      },
      "execution_count": null,
      "outputs": []
    },
    {
      "cell_type": "code",
      "source": [
        "# Check if CUDA is available and set the device accordingly\n",
        "device = torch.device(\"cuda\" if torch.cuda.is_available() else \"cpu\")\n",
        "print(\"Using device:\", device)\n",
        "\n",
        "# Your model\n",
        "model = DeepJSCC(enc_chs, stages_count, SNR).to(device)\n",
        "\n",
        "initial_lr = 0.001\n",
        "opt = torch.optim.Adam(model.parameters(), lr=initial_lr)"
      ],
      "metadata": {
        "id": "UcVu5x_bAaVS",
        "colab": {
          "base_uri": "https://localhost:8080/"
        },
        "outputId": "1dddcb71-3144-49b2-8166-5eacab262f8f"
      },
      "execution_count": null,
      "outputs": [
        {
          "output_type": "stream",
          "name": "stdout",
          "text": [
            "Using device: cpu\n"
          ]
        }
      ]
    },
    {
      "cell_type": "code",
      "source": [
        "known_SNRs  = [1, 4, 7, 13, 19]\n",
        "test_SNRs   = [1, 4, 7, 10, 13, 16, 19, 22, 25]\n",
        "known_goals = [[24.636, 25.964, 26.618, 26.945, 27.109, 27.182, 27.236, 27.255, 27.273],\n",
        "              [23.836, 26.655, 28.091, 28.909, 29.309, 29.527, 29.636, 29.673, 29.709],\n",
        "              [21.836, 25.945, 28.545, 30.091, 31.055, 31.618, 31.945, 32.091, 32.182],\n",
        "              [21.036, 23.836, 26.455, 28.854, 30.836, 32.345, 33.382, 34.036, 34.382],\n",
        "              [20.291, 23.127, 25.891, 28.473, 30.745, 32.655, 34.073, 35.036, 35.600]]\n",
        "\n",
        "idx = np.where(np.array(known_SNRs) == SNR)[0]\n",
        "if idx.size == 0:\n",
        "  goal = None\n",
        "else:\n",
        "  idx = idx[0]\n",
        "  goal = known_goals[idx]\n",
        "\n",
        "goal = None   # we don't want to use the result of main paper here"
      ],
      "metadata": {
        "id": "cNl-eslwAb_6"
      },
      "execution_count": null,
      "outputs": []
    },
    {
      "cell_type": "code",
      "source": [
        "scheduler = torch.optim.lr_scheduler.LambdaLR(opt, lr_lambda=lr_scheduler)\n",
        "\n",
        "# Split the dataset into train and test\n",
        "train_size = int(0.7 * len(patches_dataset))\n",
        "test_size = len(patches_dataset) - train_size\n",
        "train_dataset, test_dataset = random_split(patches_dataset, [train_size, test_size])\n",
        "\n",
        "# Create DataLoaders\n",
        "batch_size = 32\n",
        "train_loader = DataLoader(train_dataset, batch_size=batch_size, shuffle=True)\n",
        "test_loader = DataLoader(test_dataset, batch_size=batch_size, shuffle=False)\n",
        "\n",
        "psnr_metrics = [PSNR_metric() for _ in range(len(model.decoders))]  # One PSNR_metric instance for each decoder\n",
        "\n",
        "# Initialize the EpochDotter\n",
        "epoch_dotter = EpochDotter(nl_period=10, dot_period=1)\n",
        "\n",
        "# Training loop\n",
        "for epoch in range(epochs):\n",
        "    model.train()\n",
        "    total_loss = 0\n",
        "\n",
        "    for batch_idx, (data, target) in enumerate(train_loader):\n",
        "        opt.zero_grad()  # Zero the gradients\n",
        "\n",
        "        outputs = model(data)  # Forward pass, outputs is a list of tensors\n",
        "\n",
        "        # Calculate loss using the custom method\n",
        "        loss = model.calculate_loss(target, outputs)\n",
        "\n",
        "        loss.backward()  # Backward pass\n",
        "        opt.step()  # Update weights\n",
        "\n",
        "        total_loss += loss.item()\n",
        "\n",
        "    scheduler.step()  # Update learning rate\n",
        "\n",
        "    # Validation step\n",
        "    model.eval()\n",
        "    with torch.no_grad():\n",
        "        validation_psnrs = []\n",
        "        for data, target in test_loader:\n",
        "            data, target = data.to(device), target.to(device)\n",
        "            outputs = model(data)\n",
        "\n",
        "            for i, output in enumerate(outputs):\n",
        "                psnr_metrics[i].update_state(target, output)\n",
        "\n",
        "        # Print PSNRs and reset states\n",
        "        for i, metric in enumerate(psnr_metrics):\n",
        "            avg_psnr = metric.result().item()\n",
        "            validation_psnrs.append(avg_psnr)\n",
        "            metric.reset_states()\n",
        "\n",
        "    # Print epoch information using EpochDotter\n",
        "    logs = {'val_loss': total_loss / len(train_loader), 'val_psnr': np.mean(validation_psnrs)}\n",
        "    epoch_dotter.on_epoch_end(epoch, logs)\n",
        "\n",
        "    if epoch % 10 == 0:\n",
        "        PSNR_plotter(test_SNRs, model, model.channel, test_loader, len(model.decoders), goal)\n",
        "\n",
        "# Save the entire model\n",
        "torch.save(model, 'entire_model.pth')\n"
      ],
      "metadata": {
        "colab": {
          "base_uri": "https://localhost:8080/",
          "height": 897
        },
        "id": "hAIg2JiVAdnf",
        "outputId": "b399fc69-9063-424c-9ceb-96e54c31897a"
      },
      "execution_count": null,
      "outputs": [
        {
          "output_type": "stream",
          "name": "stdout",
          "text": [
            "\n",
            "learning_rate: 0.001\n",
            ". 0 epochs - 20.97s/epoch - val_loss: 0.4097 - val_psnr: 10.9122\n"
          ]
        },
        {
          "output_type": "display_data",
          "data": {
            "text/plain": [
              "<Figure size 640x480 with 1 Axes>"
            ],
            "image/png": "[encoded data removed]"
          },
          "metadata": {}
        },
        {
          "output_type": "error",
          "ename": "KeyboardInterrupt",
          "evalue": "ignored",
          "traceback": [
            "\u001b[0;31m---------------------------------------------------------------------------\u001b[0m",
            "\u001b[0;31mKeyboardInterrupt\u001b[0m                         Traceback (most recent call last)",
            "\u001b[0;32m<ipython-input-141-7d7215f0ba2a>\u001b[0m in \u001b[0;36m<cell line: 19>\u001b[0;34m()\u001b[0m\n\u001b[1;32m     24\u001b[0m         \u001b[0mopt\u001b[0m\u001b[0;34m.\u001b[0m\u001b[0mzero_grad\u001b[0m\u001b[0;34m(\u001b[0m\u001b[0;34m)\u001b[0m  \u001b[0;31m# Zero the gradients\u001b[0m\u001b[0;34m\u001b[0m\u001b[0;34m\u001b[0m\u001b[0m\n\u001b[1;32m     25\u001b[0m \u001b[0;34m\u001b[0m\u001b[0m\n\u001b[0;32m---> 26\u001b[0;31m         \u001b[0moutputs\u001b[0m \u001b[0;34m=\u001b[0m \u001b[0mmodel\u001b[0m\u001b[0;34m(\u001b[0m\u001b[0mdata\u001b[0m\u001b[0;34m)\u001b[0m  \u001b[0;31m# Forward pass, outputs is a list of tensors\u001b[0m\u001b[0;34m\u001b[0m\u001b[0;34m\u001b[0m\u001b[0m\n\u001b[0m\u001b[1;32m     27\u001b[0m \u001b[0;34m\u001b[0m\u001b[0m\n\u001b[1;32m     28\u001b[0m         \u001b[0;31m# Calculate loss using the custom method\u001b[0m\u001b[0;34m\u001b[0m\u001b[0;34m\u001b[0m\u001b[0m\n",
            "\u001b[0;32m/usr/local/lib/python3.10/dist-packages/torch/nn/modules/module.py\u001b[0m in \u001b[0;36m_wrapped_call_impl\u001b[0;34m(self, *args, **kwargs)\u001b[0m\n\u001b[1;32m   1516\u001b[0m             \u001b[0;32mreturn\u001b[0m \u001b[0mself\u001b[0m\u001b[0;34m.\u001b[0m\u001b[0m_compiled_call_impl\u001b[0m\u001b[0;34m(\u001b[0m\u001b[0;34m*\u001b[0m\u001b[0margs\u001b[0m\u001b[0;34m,\u001b[0m \u001b[0;34m**\u001b[0m\u001b[0mkwargs\u001b[0m\u001b[0;34m)\u001b[0m  \u001b[0;31m# type: ignore[misc]\u001b[0m\u001b[0;34m\u001b[0m\u001b[0;34m\u001b[0m\u001b[0m\n\u001b[1;32m   1517\u001b[0m         \u001b[0;32melse\u001b[0m\u001b[0;34m:\u001b[0m\u001b[0;34m\u001b[0m\u001b[0;34m\u001b[0m\u001b[0m\n\u001b[0;32m-> 1518\u001b[0;31m             \u001b[0;32mreturn\u001b[0m \u001b[0mself\u001b[0m\u001b[0;34m.\u001b[0m\u001b[0m_call_impl\u001b[0m\u001b[0;34m(\u001b[0m\u001b[0;34m*\u001b[0m\u001b[0margs\u001b[0m\u001b[0;34m,\u001b[0m \u001b[0;34m**\u001b[0m\u001b[0mkwargs\u001b[0m\u001b[0;34m)\u001b[0m\u001b[0;34m\u001b[0m\u001b[0;34m\u001b[0m\u001b[0m\n\u001b[0m\u001b[1;32m   1519\u001b[0m \u001b[0;34m\u001b[0m\u001b[0m\n\u001b[1;32m   1520\u001b[0m     \u001b[0;32mdef\u001b[0m \u001b[0m_call_impl\u001b[0m\u001b[0;34m(\u001b[0m\u001b[0mself\u001b[0m\u001b[0;34m,\u001b[0m \u001b[0;34m*\u001b[0m\u001b[0margs\u001b[0m\u001b[0;34m,\u001b[0m \u001b[0;34m**\u001b[0m\u001b[0mkwargs\u001b[0m\u001b[0;34m)\u001b[0m\u001b[0;34m:\u001b[0m\u001b[0;34m\u001b[0m\u001b[0;34m\u001b[0m\u001b[0m\n",
            "\u001b[0;32m/usr/local/lib/python3.10/dist-packages/torch/nn/modules/module.py\u001b[0m in \u001b[0;36m_call_impl\u001b[0;34m(self, *args, **kwargs)\u001b[0m\n\u001b[1;32m   1525\u001b[0m                 \u001b[0;32mor\u001b[0m \u001b[0m_global_backward_pre_hooks\u001b[0m \u001b[0;32mor\u001b[0m \u001b[0m_global_backward_hooks\u001b[0m\u001b[0;34m\u001b[0m\u001b[0;34m\u001b[0m\u001b[0m\n\u001b[1;32m   1526\u001b[0m                 or _global_forward_hooks or _global_forward_pre_hooks):\n\u001b[0;32m-> 1527\u001b[0;31m             \u001b[0;32mreturn\u001b[0m \u001b[0mforward_call\u001b[0m\u001b[0;34m(\u001b[0m\u001b[0;34m*\u001b[0m\u001b[0margs\u001b[0m\u001b[0;34m,\u001b[0m \u001b[0;34m**\u001b[0m\u001b[0mkwargs\u001b[0m\u001b[0;34m)\u001b[0m\u001b[0;34m\u001b[0m\u001b[0;34m\u001b[0m\u001b[0m\n\u001b[0m\u001b[1;32m   1528\u001b[0m \u001b[0;34m\u001b[0m\u001b[0m\n\u001b[1;32m   1529\u001b[0m         \u001b[0;32mtry\u001b[0m\u001b[0;34m:\u001b[0m\u001b[0;34m\u001b[0m\u001b[0;34m\u001b[0m\u001b[0m\n",
            "\u001b[0;32m<ipython-input-138-98e19a2846c6>\u001b[0m in \u001b[0;36mforward\u001b[0;34m(self, x)\u001b[0m\n\u001b[1;32m     16\u001b[0m         \u001b[0;32mfor\u001b[0m \u001b[0mi\u001b[0m\u001b[0;34m,\u001b[0m \u001b[0mdecoder\u001b[0m \u001b[0;32min\u001b[0m \u001b[0menumerate\u001b[0m\u001b[0;34m(\u001b[0m\u001b[0mself\u001b[0m\u001b[0;34m.\u001b[0m\u001b[0mdecoders\u001b[0m\u001b[0;34m)\u001b[0m\u001b[0;34m:\u001b[0m\u001b[0;34m\u001b[0m\u001b[0;34m\u001b[0m\u001b[0m\n\u001b[1;32m     17\u001b[0m             \u001b[0mdecoder_input\u001b[0m \u001b[0;34m=\u001b[0m \u001b[0mchannel_out\u001b[0m\u001b[0;34m[\u001b[0m\u001b[0;34m:\u001b[0m\u001b[0;34m,\u001b[0m \u001b[0;34m:\u001b[0m\u001b[0mdec_chs\u001b[0m\u001b[0;34m*\u001b[0m\u001b[0;34m(\u001b[0m\u001b[0mi\u001b[0m\u001b[0;34m+\u001b[0m\u001b[0;36m1\u001b[0m\u001b[0;34m)\u001b[0m\u001b[0;34m,\u001b[0m \u001b[0;34m:\u001b[0m\u001b[0;34m,\u001b[0m \u001b[0;34m:\u001b[0m\u001b[0;34m]\u001b[0m\u001b[0;34m\u001b[0m\u001b[0;34m\u001b[0m\u001b[0m\n\u001b[0;32m---> 18\u001b[0;31m             \u001b[0mdecoder_output\u001b[0m \u001b[0;34m=\u001b[0m \u001b[0mdecoder\u001b[0m\u001b[0;34m(\u001b[0m\u001b[0mdecoder_input\u001b[0m\u001b[0;34m)\u001b[0m\u001b[0;34m\u001b[0m\u001b[0;34m\u001b[0m\u001b[0m\n\u001b[0m\u001b[1;32m     19\u001b[0m             \u001b[0moutputs\u001b[0m\u001b[0;34m.\u001b[0m\u001b[0mappend\u001b[0m\u001b[0;34m(\u001b[0m\u001b[0mdecoder_output\u001b[0m\u001b[0;34m)\u001b[0m\u001b[0;34m\u001b[0m\u001b[0;34m\u001b[0m\u001b[0m\n\u001b[1;32m     20\u001b[0m \u001b[0;34m\u001b[0m\u001b[0m\n",
            "\u001b[0;32m/usr/local/lib/python3.10/dist-packages/torch/nn/modules/module.py\u001b[0m in \u001b[0;36m_wrapped_call_impl\u001b[0;34m(self, *args, **kwargs)\u001b[0m\n\u001b[1;32m   1516\u001b[0m             \u001b[0;32mreturn\u001b[0m \u001b[0mself\u001b[0m\u001b[0;34m.\u001b[0m\u001b[0m_compiled_call_impl\u001b[0m\u001b[0;34m(\u001b[0m\u001b[0;34m*\u001b[0m\u001b[0margs\u001b[0m\u001b[0;34m,\u001b[0m \u001b[0;34m**\u001b[0m\u001b[0mkwargs\u001b[0m\u001b[0;34m)\u001b[0m  \u001b[0;31m# type: ignore[misc]\u001b[0m\u001b[0;34m\u001b[0m\u001b[0;34m\u001b[0m\u001b[0m\n\u001b[1;32m   1517\u001b[0m         \u001b[0;32melse\u001b[0m\u001b[0;34m:\u001b[0m\u001b[0;34m\u001b[0m\u001b[0;34m\u001b[0m\u001b[0m\n\u001b[0;32m-> 1518\u001b[0;31m             \u001b[0;32mreturn\u001b[0m \u001b[0mself\u001b[0m\u001b[0;34m.\u001b[0m\u001b[0m_call_impl\u001b[0m\u001b[0;34m(\u001b[0m\u001b[0;34m*\u001b[0m\u001b[0margs\u001b[0m\u001b[0;34m,\u001b[0m \u001b[0;34m**\u001b[0m\u001b[0mkwargs\u001b[0m\u001b[0;34m)\u001b[0m\u001b[0;34m\u001b[0m\u001b[0;34m\u001b[0m\u001b[0m\n\u001b[0m\u001b[1;32m   1519\u001b[0m \u001b[0;34m\u001b[0m\u001b[0m\n\u001b[1;32m   1520\u001b[0m     \u001b[0;32mdef\u001b[0m \u001b[0m_call_impl\u001b[0m\u001b[0;34m(\u001b[0m\u001b[0mself\u001b[0m\u001b[0;34m,\u001b[0m \u001b[0;34m*\u001b[0m\u001b[0margs\u001b[0m\u001b[0;34m,\u001b[0m \u001b[0;34m**\u001b[0m\u001b[0mkwargs\u001b[0m\u001b[0;34m)\u001b[0m\u001b[0;34m:\u001b[0m\u001b[0;34m\u001b[0m\u001b[0;34m\u001b[0m\u001b[0m\n",
            "\u001b[0;32m/usr/local/lib/python3.10/dist-packages/torch/nn/modules/module.py\u001b[0m in \u001b[0;36m_call_impl\u001b[0;34m(self, *args, **kwargs)\u001b[0m\n\u001b[1;32m   1525\u001b[0m                 \u001b[0;32mor\u001b[0m \u001b[0m_global_backward_pre_hooks\u001b[0m \u001b[0;32mor\u001b[0m \u001b[0m_global_backward_hooks\u001b[0m\u001b[0;34m\u001b[0m\u001b[0;34m\u001b[0m\u001b[0m\n\u001b[1;32m   1526\u001b[0m                 or _global_forward_hooks or _global_forward_pre_hooks):\n\u001b[0;32m-> 1527\u001b[0;31m             \u001b[0;32mreturn\u001b[0m \u001b[0mforward_call\u001b[0m\u001b[0;34m(\u001b[0m\u001b[0;34m*\u001b[0m\u001b[0margs\u001b[0m\u001b[0;34m,\u001b[0m \u001b[0;34m**\u001b[0m\u001b[0mkwargs\u001b[0m\u001b[0;34m)\u001b[0m\u001b[0;34m\u001b[0m\u001b[0;34m\u001b[0m\u001b[0m\n\u001b[0m\u001b[1;32m   1528\u001b[0m \u001b[0;34m\u001b[0m\u001b[0m\n\u001b[1;32m   1529\u001b[0m         \u001b[0;32mtry\u001b[0m\u001b[0;34m:\u001b[0m\u001b[0;34m\u001b[0m\u001b[0;34m\u001b[0m\u001b[0m\n",
            "\u001b[0;32m/usr/local/lib/python3.10/dist-packages/torch/nn/modules/container.py\u001b[0m in \u001b[0;36mforward\u001b[0;34m(self, input)\u001b[0m\n\u001b[1;32m    213\u001b[0m     \u001b[0;32mdef\u001b[0m \u001b[0mforward\u001b[0m\u001b[0;34m(\u001b[0m\u001b[0mself\u001b[0m\u001b[0;34m,\u001b[0m \u001b[0minput\u001b[0m\u001b[0;34m)\u001b[0m\u001b[0;34m:\u001b[0m\u001b[0;34m\u001b[0m\u001b[0;34m\u001b[0m\u001b[0m\n\u001b[1;32m    214\u001b[0m         \u001b[0;32mfor\u001b[0m \u001b[0mmodule\u001b[0m \u001b[0;32min\u001b[0m \u001b[0mself\u001b[0m\u001b[0;34m:\u001b[0m\u001b[0;34m\u001b[0m\u001b[0;34m\u001b[0m\u001b[0m\n\u001b[0;32m--> 215\u001b[0;31m             \u001b[0minput\u001b[0m \u001b[0;34m=\u001b[0m \u001b[0mmodule\u001b[0m\u001b[0;34m(\u001b[0m\u001b[0minput\u001b[0m\u001b[0;34m)\u001b[0m\u001b[0;34m\u001b[0m\u001b[0;34m\u001b[0m\u001b[0m\n\u001b[0m\u001b[1;32m    216\u001b[0m         \u001b[0;32mreturn\u001b[0m \u001b[0minput\u001b[0m\u001b[0;34m\u001b[0m\u001b[0;34m\u001b[0m\u001b[0m\n\u001b[1;32m    217\u001b[0m \u001b[0;34m\u001b[0m\u001b[0m\n",
            "\u001b[0;32m/usr/local/lib/python3.10/dist-packages/torch/nn/modules/module.py\u001b[0m in \u001b[0;36m_wrapped_call_impl\u001b[0;34m(self, *args, **kwargs)\u001b[0m\n\u001b[1;32m   1516\u001b[0m             \u001b[0;32mreturn\u001b[0m \u001b[0mself\u001b[0m\u001b[0;34m.\u001b[0m\u001b[0m_compiled_call_impl\u001b[0m\u001b[0;34m(\u001b[0m\u001b[0;34m*\u001b[0m\u001b[0margs\u001b[0m\u001b[0;34m,\u001b[0m \u001b[0;34m**\u001b[0m\u001b[0mkwargs\u001b[0m\u001b[0;34m)\u001b[0m  \u001b[0;31m# type: ignore[misc]\u001b[0m\u001b[0;34m\u001b[0m\u001b[0;34m\u001b[0m\u001b[0m\n\u001b[1;32m   1517\u001b[0m         \u001b[0;32melse\u001b[0m\u001b[0;34m:\u001b[0m\u001b[0;34m\u001b[0m\u001b[0;34m\u001b[0m\u001b[0m\n\u001b[0;32m-> 1518\u001b[0;31m             \u001b[0;32mreturn\u001b[0m \u001b[0mself\u001b[0m\u001b[0;34m.\u001b[0m\u001b[0m_call_impl\u001b[0m\u001b[0;34m(\u001b[0m\u001b[0;34m*\u001b[0m\u001b[0margs\u001b[0m\u001b[0;34m,\u001b[0m \u001b[0;34m**\u001b[0m\u001b[0mkwargs\u001b[0m\u001b[0;34m)\u001b[0m\u001b[0;34m\u001b[0m\u001b[0;34m\u001b[0m\u001b[0m\n\u001b[0m\u001b[1;32m   1519\u001b[0m \u001b[0;34m\u001b[0m\u001b[0m\n\u001b[1;32m   1520\u001b[0m     \u001b[0;32mdef\u001b[0m \u001b[0m_call_impl\u001b[0m\u001b[0;34m(\u001b[0m\u001b[0mself\u001b[0m\u001b[0;34m,\u001b[0m \u001b[0;34m*\u001b[0m\u001b[0margs\u001b[0m\u001b[0;34m,\u001b[0m \u001b[0;34m**\u001b[0m\u001b[0mkwargs\u001b[0m\u001b[0;34m)\u001b[0m\u001b[0;34m:\u001b[0m\u001b[0;34m\u001b[0m\u001b[0;34m\u001b[0m\u001b[0m\n",
            "\u001b[0;32m/usr/local/lib/python3.10/dist-packages/torch/nn/modules/module.py\u001b[0m in \u001b[0;36m_call_impl\u001b[0;34m(self, *args, **kwargs)\u001b[0m\n\u001b[1;32m   1525\u001b[0m                 \u001b[0;32mor\u001b[0m \u001b[0m_global_backward_pre_hooks\u001b[0m \u001b[0;32mor\u001b[0m \u001b[0m_global_backward_hooks\u001b[0m\u001b[0;34m\u001b[0m\u001b[0;34m\u001b[0m\u001b[0m\n\u001b[1;32m   1526\u001b[0m                 or _global_forward_hooks or _global_forward_pre_hooks):\n\u001b[0;32m-> 1527\u001b[0;31m             \u001b[0;32mreturn\u001b[0m \u001b[0mforward_call\u001b[0m\u001b[0;34m(\u001b[0m\u001b[0;34m*\u001b[0m\u001b[0margs\u001b[0m\u001b[0;34m,\u001b[0m \u001b[0;34m**\u001b[0m\u001b[0mkwargs\u001b[0m\u001b[0;34m)\u001b[0m\u001b[0;34m\u001b[0m\u001b[0;34m\u001b[0m\u001b[0m\n\u001b[0m\u001b[1;32m   1528\u001b[0m \u001b[0;34m\u001b[0m\u001b[0m\n\u001b[1;32m   1529\u001b[0m         \u001b[0;32mtry\u001b[0m\u001b[0;34m:\u001b[0m\u001b[0;34m\u001b[0m\u001b[0;34m\u001b[0m\u001b[0m\n",
            "\u001b[0;32m/usr/local/lib/python3.10/dist-packages/torch/nn/modules/conv.py\u001b[0m in \u001b[0;36mforward\u001b[0;34m(self, input, output_size)\u001b[0m\n\u001b[1;32m    950\u001b[0m             num_spatial_dims, self.dilation)  # type: ignore[arg-type]\n\u001b[1;32m    951\u001b[0m \u001b[0;34m\u001b[0m\u001b[0m\n\u001b[0;32m--> 952\u001b[0;31m         return F.conv_transpose2d(\n\u001b[0m\u001b[1;32m    953\u001b[0m             \u001b[0minput\u001b[0m\u001b[0;34m,\u001b[0m \u001b[0mself\u001b[0m\u001b[0;34m.\u001b[0m\u001b[0mweight\u001b[0m\u001b[0;34m,\u001b[0m \u001b[0mself\u001b[0m\u001b[0;34m.\u001b[0m\u001b[0mbias\u001b[0m\u001b[0;34m,\u001b[0m \u001b[0mself\u001b[0m\u001b[0;34m.\u001b[0m\u001b[0mstride\u001b[0m\u001b[0;34m,\u001b[0m \u001b[0mself\u001b[0m\u001b[0;34m.\u001b[0m\u001b[0mpadding\u001b[0m\u001b[0;34m,\u001b[0m\u001b[0;34m\u001b[0m\u001b[0;34m\u001b[0m\u001b[0m\n\u001b[1;32m    954\u001b[0m             output_padding, self.groups, self.dilation)\n",
            "\u001b[0;31mKeyboardInterrupt\u001b[0m: "
          ]
        }
      ]
    },
    {
      "cell_type": "code",
      "source": [
        "# Convert testX to a PyTorch tensor\n",
        "testX_tensor = torch.tensor(test_dataset, dtype=torch.float32)\n",
        "\n",
        "# Set the model to evaluation mode\n",
        "model.eval()\n",
        "\n",
        "# Randomly select a subset of images from the test set\n",
        "idxs = np.random.randint(0, len(testX_tensor), 10)\n",
        "imgs = testX_tensor[idxs]\n",
        "\n",
        "# Generate predictions\n",
        "with torch.no_grad():  # No gradients needed for evaluation\n",
        "    preds = model(imgs)\n",
        "\n",
        "# Plot the original images and predictions\n",
        "fig = plt.figure(figsize=(2.5 * (stages_count + 1), 2.5 * len(imgs)))\n",
        "for i in range(len(imgs)):\n",
        "    for j in range(stages_count):\n",
        "        # Convert the prediction back to a numpy array for plotting\n",
        "        pred = preds[j][i].cpu().numpy()\n",
        "        fig.add_subplot(len(imgs), stages_count + 1, i * (stages_count + 1) + j + 1)\n",
        "        plt.imshow(pred)\n",
        "        plt.axis('off')  # Hide the axis\n",
        "\n",
        "    # Plot the original image\n",
        "    fig.add_subplot(len(imgs), stages_count + 1, (i + 1) * (stages_count + 1))\n",
        "    plt.imshow(imgs[i].cpu().numpy())\n",
        "    plt.axis('off')  # Hide the axis\n",
        "\n",
        "plt.show()"
      ],
      "metadata": {
        "id": "2ZsdN05aAl8T"
      },
      "execution_count": null,
      "outputs": []
    },
    {
      "cell_type": "code",
      "source": [],
      "metadata": {
        "id": "gKIVIaisBEKL"
      },
      "execution_count": null,
      "outputs": []
    }
  ]
}