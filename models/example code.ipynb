{
 "cells": [
  {
   "cell_type": "code",
   "execution_count": null,
   "metadata": {},
   "outputs": [],
   "source": [
    "import numpy as np\n",
    "import tensorflow as tf\n",
    "print(tf.__version__)"
   ]
  },
  {
   "cell_type": "code",
   "execution_count": null,
   "metadata": {},
   "outputs": [],
   "source": [
    "def load_tf_model(model_dir):\n",
    "    \"\"\"\n",
    "    Load a TensorFlow model from a directory.\n",
    "\n",
    "    Args:\n",
    "        model_dir: The directory containing the model.\n",
    "    \"\"\"\n",
    "    return tf.keras.models.load_model(model_dir)"
   ]
  },
  {
   "cell_type": "code",
   "execution_count": null,
   "metadata": {},
   "outputs": [],
   "source": [
    "def transmit_patches(patches, model):\n",
    "    \"\"\"\n",
    "    Passes the patches through encoder, channel, and all decoders available in the model\n",
    "\n",
    "    Args:\n",
    "        patches (np.ndarray): The patches to be transmitted. Shape: (n_patches, H, W, 3)\n",
    "        model (tf.keras.Model): The model.\n",
    "\n",
    "    Returns:\n",
    "        np.ndarray: The outputs of all decoders in the model. Shape: (n_decoders, n_patches, H, W, 3)\n",
    "    \"\"\"\n",
    "\n",
    "    output = np.array(model(patches))\n",
    "    return output"
   ]
  },
  {
   "cell_type": "code",
   "execution_count": null,
   "metadata": {},
   "outputs": [],
   "source": [
    "import os\n",
    "\n",
    "model_dir = \"./JSCC_1/raw_model\"\n",
    "if os.path.exists(model_dir):\n",
    "    if os.access(model_dir, os.R_OK):\n",
    "        print(\"El archivo del modelo existe y es legible.\")\n",
    "    else:\n",
    "        print(\"El archivo del modelo existe pero no es legible.\")\n",
    "else:\n",
    "    print(\"El archivo del modelo no existe.\")"
   ]
  },
  {
   "cell_type": "code",
   "execution_count": null,
   "metadata": {},
   "outputs": [],
   "source": [
    "model_dir = \"./JSCC_1/raw_model\"\n",
    "model = load_tf_model(model_dir)\n",
    "\n",
    "patches = np.random.rand(100, 32, 32, 3)\n",
    "\n",
    "transmitted_patches = transmit_patches(patches, model)\n",
    "print(transmitted_patches.shape)"
   ]
  },
  {
   "cell_type": "code",
   "execution_count": null,
   "metadata": {},
   "outputs": [],
   "source": []
  }
 ],
 "metadata": {
  "kernelspec": {
   "display_name": "JSCC",
   "language": "python",
   "name": "python3"
  },
  "language_info": {
   "codemirror_mode": {
    "name": "ipython",
    "version": 3
   },
   "file_extension": ".py",
   "mimetype": "text/x-python",
   "name": "python",
   "nbconvert_exporter": "python",
   "pygments_lexer": "ipython3",
   "version": "3.11.5"
  }
 },
 "nbformat": 4,
 "nbformat_minor": 2
}
